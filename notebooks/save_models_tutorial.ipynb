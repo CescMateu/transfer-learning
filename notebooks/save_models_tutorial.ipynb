{
 "cells": [
  {
   "cell_type": "code",
   "execution_count": 1,
   "metadata": {},
   "outputs": [],
   "source": [
    "import os\n",
    "import tensorflow as tf"
   ]
  },
  {
   "cell_type": "markdown",
   "metadata": {},
   "source": [
    "## Checkpoint files\n",
    "When creating a tensorflow checkpoint file, it actually creates several accompanying files along with it. It is, therefore, a good idea to place the checkpoints in a dedicated subdirectory, to keep all the related files nicely organized.\n",
    "\n",
    "So let's start by creating a subdirectory called \"checkpoints\", and specifying the path of the checkpoint file to be \"checkpoints/checkpoint.chk\"."
   ]
  },
  {
   "cell_type": "code",
   "execution_count": 7,
   "metadata": {},
   "outputs": [],
   "source": [
    "# Specify the name of the checkpoints directory\n",
    "checkpoint_dir = \"checkpoints\"\n",
    "\n",
    "# Create the directory if it does not already exist\n",
    "if not os.path.exists(checkpoint_dir):\n",
    "    os.makedirs(checkpoint_dir)\n",
    "\n",
    "# Specify the path to the checkpoint file\n",
    "checkpoint_file = os.path.join(checkpoint_dir, \"checkpoint.chk\")"
   ]
  },
  {
   "cell_type": "markdown",
   "metadata": {},
   "source": [
    "## Saving and Restoring Operations\n",
    "In order to actually save and restore checkpoints, we need to create a saver operation in the tensorflow graph using tf.train.Saver()"
   ]
  },
  {
   "cell_type": "code",
   "execution_count": 10,
   "metadata": {},
   "outputs": [],
   "source": [
    "# CREATE THE GRAPH\n",
    "graph = tf.Graph()\n",
    "with graph.as_default():\n",
    "    tf_w1 = tf.Variable(tf.constant(1, shape=[2, 3]), name=\"weights_1\")\n",
    "    tf_w2 = tf.Variable(tf.constant(1, shape=[2, 3]), name=\"weights_2\")\n",
    "    update_vars = tf_w1.assign(tf_w1 + tf_w2) # update the value of w1\n",
    "\n",
    "    # Create a Saver Object\n",
    "    saver = tf.train.Saver(name=\"saver\")"
   ]
  },
  {
   "cell_type": "code",
   "execution_count": 18,
   "metadata": {},
   "outputs": [
    {
     "name": "stdout",
     "output_type": "stream",
     "text": [
      "Restoring from file:  checkpoints/checkpoint.chk\n",
      "INFO:tensorflow:Restoring parameters from checkpoints/checkpoint.chk\n",
      "Value of w1 a after running: \n",
      " [[8 8 8]\n",
      " [8 8 8]]\n"
     ]
    }
   ],
   "source": [
    "# RUN THE SESSION\n",
    "with tf.Session(graph=graph) as session:\n",
    "    # Initialize Variables\n",
    "    if tf.train.checkpoint_exists(checkpoint_file):\n",
    "        print(\"Restoring from file: \", checkpoint_file)\n",
    "        saver.restore(session, checkpoint_file)\n",
    "    else:\n",
    "        print(\"Initializing from scratch\")\n",
    "        session.run(tf.global_variables_initializer())\n",
    "\n",
    "    # RUN THE GRAPH - updating the variables\n",
    "    session.run(update_vars)\n",
    "    w1_val = session.run(tf_w1)\n",
    "    print(\"Value of w1 a after running: \\n\", w1_val)\n",
    "\n",
    "    # Save a snapshot of the variables\n",
    "    saver.save(session, checkpoint_file)"
   ]
  },
  {
   "cell_type": "code",
   "execution_count": null,
   "metadata": {},
   "outputs": [],
   "source": []
  },
  {
   "cell_type": "code",
   "execution_count": null,
   "metadata": {},
   "outputs": [],
   "source": []
  }
 ],
 "metadata": {
  "kernelspec": {
   "display_name": "Python 3",
   "language": "python",
   "name": "python3"
  },
  "language_info": {
   "codemirror_mode": {
    "name": "ipython",
    "version": 3
   },
   "file_extension": ".py",
   "mimetype": "text/x-python",
   "name": "python",
   "nbconvert_exporter": "python",
   "pygments_lexer": "ipython3",
   "version": "3.6.6"
  }
 },
 "nbformat": 4,
 "nbformat_minor": 2
}
