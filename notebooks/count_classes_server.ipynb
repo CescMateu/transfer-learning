{
 "cells": [
  {
   "cell_type": "code",
   "execution_count": 3,
   "metadata": {},
   "outputs": [],
   "source": [
    "import os\n",
    "import glob"
   ]
  },
  {
   "cell_type": "code",
   "execution_count": 4,
   "metadata": {},
   "outputs": [],
   "source": [
    "# Count the number of files in each directory and perform a summary in a table\n",
    "\n",
    "def count_files_illness(parent_dir, illness, mode_to_count='all'):\n",
    "    \n",
    "    assert illness in ['altpig', 'dmae', 'excavation', 'membrana', 'nevus']\n",
    "    assert mode_to_count in ['train', 'test', 'validation', 'all'], 'mode_to_count parameter not recognized'\n",
    "    \n",
    "    count = 0\n",
    "    illness_dir = 'u_{}_symbolic_512'.format(illness)    \n",
    "\n",
    "    if mode_to_count != 'all':\n",
    "        filenames_dir = os.path.join(parent_dir, illness_dir, mode_to_count, illness)\n",
    "        count = len([f for f in os.listdir(filenames_dir) if f.endswith('jpg')])\n",
    "        \n",
    "    else:\n",
    "        for mode in ['test', 'train', 'validation']:\n",
    "            filenames_dir = os.path.join(parent_dir, illness_dir, mode, illness)\n",
    "            count += len([f for f in os.listdir(filenames_dir) if f.endswith('jpg')])\n",
    "    \n",
    "    return count\n",
    "\n",
    "\n",
    "def count_files_healthy(parent_dir, mode_to_count='all'):\n",
    "\n",
    "    assert mode_to_count in ['train', 'test', 'validation', 'all'], 'mode_to_count parameter not recognized'\n",
    "    \n",
    "    pathologies = ['altpig', 'dmae', 'excavation', 'membrana', 'nevus']\n",
    "    count = 0\n",
    "    \n",
    "    for pathology in pathologies:        \n",
    "        pathology_dir = 'u_{}_symbolic_512'.format(pathology)\n",
    "\n",
    "        if mode_to_count != 'all':\n",
    "            dir_to_search = os.path.join(parent_dir, pathology_dir, mode_to_count) + '/normal/*' # We only want the 'normal' images in this function\n",
    "            count = len([f for f in glob.glob(dir_to_search) if f.endswith('.jpg')])\n",
    "\n",
    "        else:\n",
    "            for mode in ['train', 'test', 'validation']:\n",
    "                dir_to_search = os.path.join(parent_dir, pathology_dir, mode) + '/normal/*' # We only want the 'normal' images in this function\n",
    "                count += len([f for f in glob.glob(dir_to_search) if f.endswith('.jpg')])\n",
    "    \n",
    "    return count"
   ]
  },
  {
   "cell_type": "code",
   "execution_count": 5,
   "metadata": {},
   "outputs": [
    {
     "name": "stdout",
     "output_type": "stream",
     "text": [
      "Number of images with altpig: 134\n",
      "Number of images with dmae: 1436\n",
      "Number of images with excavation: 303\n",
      "Number of images with membrana: 313\n",
      "Number of images with nevus: 264\n",
      "Number of images with no pathology detected: 3339\n"
     ]
    }
   ],
   "source": [
    "pathologies = ['altpig', 'dmae', 'excavation', 'membrana', 'nevus']\n",
    "for pathology in pathologies:\n",
    "    c = count_files_illness(parent_dir='data/retina_data_subset/', illness=pathology)\n",
    "    print('Number of images with {}: {}'.format(pathology, c))\n",
    "\n",
    "c = count_files_healthy(parent_dir='data/retina_data_subset/')\n",
    "print('Number of images with no pathology detected: {}'.format(c))"
   ]
  },
  {
   "cell_type": "code",
   "execution_count": 8,
   "metadata": {},
   "outputs": [],
   "source": [
    "train = [1033, 3844, 1464, 951, 1084, 8376]\n",
    "test = [323, 1202, 458, 298, 339, 2620]\n",
    "validation = [259, 961, 367, 238, 272, 2097]\n",
    "total = [1615, 6007, 2289, 1487, 1695, 13093]\n",
    "labels = ['altpig', 'dmae', 'excavation', 'membrana', 'nevus', 'normal']\n",
    "\n",
    "import matplotlib.pyplot as plt\n"
   ]
  },
  {
   "cell_type": "code",
   "execution_count": 9,
   "metadata": {},
   "outputs": [
    {
     "data": {
      "text/plain": [
       "<BarContainer object of 6 artists>"
      ]
     },
     "execution_count": 9,
     "metadata": {},
     "output_type": "execute_result"
    },
    {
     "data": {
      "image/png": "[encoded data removed]",
      "text/plain": [
       "<Figure size 432x288 with 1 Axes>"
      ]
     },
     "metadata": {
      "needs_background": "light"
     },
     "output_type": "display_data"
    }
   ],
   "source": [
    "plt.bar(labels, total)"
   ]
  },
  {
   "cell_type": "code",
   "execution_count": null,
   "metadata": {},
   "outputs": [],
   "source": []
  }
 ],
 "metadata": {
  "kernelspec": {
   "display_name": "Python 3",
   "language": "python",
   "name": "python3"
  },
  "language_info": {
   "codemirror_mode": {
    "name": "ipython",
    "version": 3
   },
   "file_extension": ".py",
   "mimetype": "text/x-python",
   "name": "python",
   "nbconvert_exporter": "python",
   "pygments_lexer": "ipython3",
   "version": "3.6.6"
  }
 },
 "nbformat": 4,
 "nbformat_minor": 2
}
